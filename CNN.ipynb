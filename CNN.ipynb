{
 "cells": [
  {
   "cell_type": "markdown",
   "metadata": {},
   "source": [
    "<b><h1>CNN model for wood species identification</h1></b>\n",
    "### 3 models can be used:\n",
    "##### - A basic testing model to check overall functionality of system\n",
    "##### - ResNET\n",
    "##### - VGG\n",
    "##### - Inception"
   ]
  },
  {
   "cell_type": "code",
   "execution_count": 1,
   "metadata": {},
   "outputs": [
    {
     "name": "stderr",
     "output_type": "stream",
     "text": [
      "/home/william/anaconda3/lib/python3.5/site-packages/cntk/cntk_py_init.py:56: UserWarning: Unsupported Linux distribution (ubuntu-18.04). CNTK supports Ubuntu 16.04 and above, only.\n",
      "  warnings.warn('Unsupported Linux distribution (%s-%s). CNTK supports Ubuntu 16.04 and above, only.' % (__my_distro__, __my_distro_ver__))\n",
      "/home/william/anaconda3/lib/python3.5/site-packages/cntk/cntk_py_init.py:98: UserWarning: \n",
      "\n",
      "################################################ Missing optional dependency (GPU-Specific) ################################################\n",
      "   CNTK may crash if the component that depends on those dependencies is loaded.\n",
      "   Visit https://docs.microsoft.com/en-us/cognitive-toolkit/Setup-Linux-Python#optional-gpu-specific-packages for more information.\n",
      "############################################################################################################################################\n",
      "If you intend to use CNTK without GPU support, you can ignore the (likely) GPU-specific warning!\n",
      "############################################################################################################################################\n",
      "\n",
      "  warnings.warn(WARNING_MSG_GPU_ONLY % ('GPU-Specific', 'https://docs.microsoft.com/en-us/cognitive-toolkit/Setup-Linux-Python#optional-gpu-specific-packages'))\n"
     ]
    },
    {
     "name": "stdout",
     "output_type": "stream",
     "text": [
      "/home/william/anaconda3/lib/python3.5/site-packages/cntk/__init__.py\n"
     ]
    }
   ],
   "source": [
    " from __future__ import print_function # Use a function definition from future version (say 3.x from 2.7 interpreter)\n",
    "\n",
    "import matplotlib.pyplot as plt\n",
    "import math\n",
    "import numpy as np\n",
    "import os\n",
    "from PIL import Image\n",
    "import sys\n",
    "import xml.etree.ElementTree as ET  \n",
    "from urllib.request import urlretrieve\n",
    "try:\n",
    "    from urllib.request import urlopen \n",
    "except ImportError: \n",
    "    from urllib import urlopen\n",
    "\n",
    "from cntk import load_model\n",
    "% matplotlib inline\n",
    "import cntk as C\n",
    "import cntk.io.transforms as xforms\n",
    "print(C.__file__)"
   ]
  },
  {
   "cell_type": "code",
   "execution_count": 2,
   "metadata": {},
   "outputs": [],
   "source": [
    "# cheking if CPU or GPU best for training should be CPU here\n",
    "if 'TEST_DEVICE' in os.environ:\n",
    "    if os.environ['TEST_DEVICE'] == 'cpu':\n",
    "        C.device.try_set_default_device(C.device.cpu())\n",
    "    else:\n",
    "        C.device.try_set_default_device(C.device.gpu(1))"
   ]
  },
  {
   "cell_type": "markdown",
   "metadata": {},
   "source": [
    "<b><h1>Reading data files: </h1></b>\n",
    "##### - XML mean file\n",
    "##### - Data map for train and test"
   ]
  },
  {
   "cell_type": "code",
   "execution_count": 3,
   "metadata": {},
   "outputs": [],
   "source": [
    "# reading input data\n",
    "envvar = 'CNTK_EXTERNAL_TESTDATA_SOURCE_DIRECTORY'\n",
    "def is_test(): return envvar in os.environ\n",
    "\n",
    "data_path = os.path.join('data','wood')\n",
    "\n",
    "# model dimensions\n",
    "image_height = 200\n",
    "image_width = 200\n",
    "num_channels = 3\n",
    "num_classes = 12\n",
    "\n",
    "#defining data readers for training and evaluation\n",
    "\n",
    "def create_reader(map_file, mean_file, train):\n",
    "    print('Reading map file: {}'.format(map_file))\n",
    "    print('Reading mean file: {}'.format(mean_file))\n",
    "    \n",
    "    transforms = []\n",
    "    \n",
    "    if train:\n",
    "        transforms += [\n",
    "            xforms.crop(crop_type='randomside', side_ratio=0.8) \n",
    "        ]\n",
    "    transforms += [\n",
    "        xforms.scale(width=image_width, height=image_height, channels=num_channels, interpolations='linear'),\n",
    "        xforms.mean(mean_file)\n",
    "    ]\n",
    "    \n",
    "    #deserializer\n",
    "    return C.io.MinibatchSource(C.io.ImageDeserializer(map_file, C.io.StreamDefs(\n",
    "        features = C.io.StreamDef(field='image', transforms=transforms), # first column in map file is referred to as 'image'\n",
    "        labels   = C.io.StreamDef(field='label', shape=num_classes)      # and second as 'label'\n",
    "    )))\n",
    "    "
   ]
  },
  {
   "cell_type": "code",
   "execution_count": 4,
   "metadata": {},
   "outputs": [
    {
     "name": "stdout",
     "output_type": "stream",
     "text": [
      "Reading map file: data/wood/Train-Wood-Species-Map.txt\n",
      "Reading mean file: data/wood/Wood-Data-Mean.xml\n",
      "Reading map file: data/wood/Test-Wood-Species-Map.txt\n",
      "Reading mean file: data/wood/Wood-Data-Mean.xml\n"
     ]
    }
   ],
   "source": [
    "# Create  train and test data readers\n",
    "reader_train = create_reader(os.path.join(data_path, 'Train-Wood-Species-Map.txt'), \n",
    "                             os.path.join(data_path, 'Wood-Data-Mean.xml'), True)\n",
    "reader_test  = create_reader(os.path.join(data_path, 'Test-Wood-Species-Map.txt'), \n",
    "                             os.path.join(data_path, 'Wood-Data-Mean.xml'), False)"
   ]
  },
  {
   "cell_type": "markdown",
   "metadata": {},
   "source": [
    "<b><h1> Models</h1></b>"
   ]
  },
  {
   "cell_type": "markdown",
   "metadata": {},
   "source": [
    "### Basic Model (used for testing overall system)"
   ]
  },
  {
   "cell_type": "code",
   "execution_count": 6,
   "metadata": {},
   "outputs": [],
   "source": [
    "# Basic model used here to test functionality of overall system use for testing faster training \n",
    "def create_basic_model(input, out_dims):\n",
    "    with C.layers.default_options(init=C.glorot_uniform(), activation=C.relu):\n",
    "        net = C.layers.Convolution((5,5), 1, pad=True)(input)\n",
    "        net = C.layers.BatchNormalization(map_rank=1)(net)\n",
    "        net = C.layers.MaxPooling((3,3), strides=(2,2))(net)\n",
    "    \n",
    "        net = C.layers.Dense(5)(net)\n",
    "        net = C.layers.BatchNormalization(map_rank=1)(net)\n",
    "        net = C.layers.Dense(out_dims, activation=C.softmax)(net)\n",
    "    \n",
    "    return net       "
   ]
  },
  {
   "cell_type": "markdown",
   "metadata": {},
   "source": [
    "### VGG models"
   ]
  },
  {
   "cell_type": "code",
   "execution_count": 5,
   "metadata": {},
   "outputs": [],
   "source": [
    "# VGG inspired model with dropout and batch normalisation\n",
    "def create_VGGsimp_model(input, out_dims):\n",
    "    with C.layers.default_options(init=C.glorot_uniform(), activation=C.relu):\n",
    "        net = C.layers.Convolution((3,3), 32, pad=True)(input)\n",
    "        net = C.layers.BatchNormalization(map_rank=1)(net)\n",
    "        net = C.layers.Convolution((3,3), 32, pad=True)(net)\n",
    "        net = C.layers.BatchNormalization(map_rank=1)(net)\n",
    "        net = C.layers.MaxPooling((2,2), strides=(2,2))(net)\n",
    "        \n",
    "        net = C.layers.Convolution((3,3), 64, pad=True)(net)\n",
    "        net = C.layers.BatchNormalization(map_rank=1)(net)\n",
    "        net = C.layers.Convolution((3,3), 64, pad=True)(net)\n",
    "        net = C.layers.BatchNormalization(map_rank=1)(net)\n",
    "        net = C.layers.MaxPooling((2,2), strides=(2,2))(net)\n",
    "        \n",
    "        net = C.layers.Convolution((3,3), 128, pad=True)(net)\n",
    "        net = C.layers.BatchNormalization(map_rank=1)(net)\n",
    "        net = C.layers.Convolution((3,3), 128, pad=True)(net)\n",
    "        net = C.layers.BatchNormalization(map_rank=1)(net)\n",
    "        net = C.layers.MaxPooling((2,2), strides=(2,2))(net)\n",
    "        \n",
    "        net = C.layers.Convolution((3,3), 256, pad=True)(net)\n",
    "        net = C.layers.BatchNormalization(map_rank=1)(net)\n",
    "        net = C.layers.Convolution((3,3), 256, pad=True)(net)\n",
    "        net = C.layers.BatchNormalization(map_rank=1)(net)\n",
    "        net = C.layers.MaxPooling((2,2), strides=(2,2))(net)\n",
    "        \n",
    "        net = C.layers.Convolution((3,3), 512, pad=True)(net)\n",
    "        net = C.layers.BatchNormalization(map_rank=1)(net)\n",
    "        net = C.layers.Convolution((3,3), 512, pad=True)(net)\n",
    "        net = C.layers.BatchNormalization(map_rank=1)(net)\n",
    "        net = C.layers.MaxPooling((2,2), strides=(2,2))(net)\n",
    "        \n",
    "        net = C.layers.Dense(2048)(net)\n",
    "        net = C.layers.Dropout(0.5)(net)\n",
    "        net = C.layers.BatchNormalization(map_rank=1)(net)\n",
    "        net = C.layers.Dense(2048)(net)\n",
    "        net = C.layers.Dropout(0.5)(net)\n",
    "        net = C.layers.BatchNormalization(map_rank=1)(net)\n",
    "        net = C.layers.Dense(out_dims, activation=C.softmax)(net)\n",
    "    \n",
    "    return net   "
   ]
  },
  {
   "cell_type": "code",
   "execution_count": 5,
   "metadata": {},
   "outputs": [],
   "source": [
    "# VGG inspired model with dropout and batch normalisation\n",
    "def create_VGG_model(input, out_dims):\n",
    "    with C.layers.default_options(init=C.glorot_uniform(), activation=C.relu):\n",
    "        net = C.layers.Convolution((3,3), 64, pad=True)(input)\n",
    "        net = C.layers.BatchNormalization(map_rank=1)(net)\n",
    "        net = C.layers.Convolution((3,3), 64, pad=True)(net)\n",
    "        net = C.layers.BatchNormalization(map_rank=1)(net)\n",
    "        net = C.layers.MaxPooling((2,2), strides=(2,2))(net)\n",
    "        \n",
    "        net = C.layers.Convolution((3,3), 128, pad=True)(net)\n",
    "        net = C.layers.BatchNormalization(map_rank=1)(net)\n",
    "        net = C.layers.Convolution((3,3), 128, pad=True)(net)\n",
    "        net = C.layers.BatchNormalization(map_rank=1)(net)\n",
    "        net = C.layers.MaxPooling((2,2), strides=(2,2))(net)\n",
    "        \n",
    "        net = C.layers.Convolution((3,3), 256, pad=True)(net)\n",
    "        net = C.layers.BatchNormalization(map_rank=1)(net)\n",
    "        net = C.layers.Convolution((3,3), 256, pad=True)(net)\n",
    "        net = C.layers.BatchNormalization(map_rank=1)(net)\n",
    "        net = C.layers.MaxPooling((2,2), strides=(2,2))(net)\n",
    "        \n",
    "        net = C.layers.Convolution((3,3), 512, pad=True)(net)\n",
    "        net = C.layers.BatchNormalization(map_rank=1)(net)\n",
    "        net = C.layers.Convolution((3,3), 512, pad=True)(net)\n",
    "        net = C.layers.BatchNormalization(map_rank=1)(net)\n",
    "        net = C.layers.MaxPooling((2,2), strides=(2,2))(net)\n",
    "        \n",
    "        net = C.layers.Convolution((3,3), 512, pad=True)(net)\n",
    "        net = C.layers.BatchNormalization(map_rank=1)(net)\n",
    "        net = C.layers.Convolution((3,3), 512, pad=True)(net)\n",
    "        net = C.layers.BatchNormalization(map_rank=1)(net)\n",
    "        net = C.layers.MaxPooling((2,2), strides=(2,2))(net)\n",
    "        \n",
    "        net = C.layers.Dense(4096)(net)\n",
    "        net = C.layers.Dropout(0.5)(net)\n",
    "        net = C.layers.BatchNormalization(map_rank=1)(net)\n",
    "        net = C.layers.Dense(2048)(net)\n",
    "        net = C.layers.Dropout(0.5)(net)\n",
    "        net = C.layers.BatchNormalization(map_rank=1)(net)\n",
    "        net = C.layers.Dense(out_dims, activation=C.softmax)(net)\n",
    "    \n",
    "    return net   "
   ]
  },
  {
   "cell_type": "markdown",
   "metadata": {},
   "source": [
    "### Resnet model"
   ]
  },
  {
   "cell_type": "code",
   "execution_count": 36,
   "metadata": {},
   "outputs": [
    {
     "name": "stdout",
     "output_type": "stream",
     "text": [
      "Input('features', [#, ], [3 x 224 x 224])\n",
      "z.x: Pooling(z.x.x.r: SequenceOver[][Tensor[512,7,7]]) -> SequenceOver[][Tensor[512,1,1]]\n"
     ]
    }
   ],
   "source": [
    "# load pretrained resnet model\n",
    "resnet_model = C.load_model('PretrainedModels/Resnet_18.model')\n",
    "\n",
    "# modify input and output layer of model\n",
    "# to match wood data\n",
    "features_node = C.logging.graph.find_by_name(resnet_model, 'features')\n",
    "last_node = C.logging.graph.find_by_name(resnet_model, 'z.x')\n",
    "# node_outputs = C.logging.get_node_outputs(resnet_model)\n",
    "# for l in node_outputs: print(\" {0} {1}\".format(l.name, l.shape))\n",
    "print(features_node)\n",
    "print(last_node)"
   ]
  },
  {
   "cell_type": "code",
   "execution_count": 6,
   "metadata": {},
   "outputs": [],
   "source": [
    "# transfer clone all layers allowing to train new weights\n",
    "\n",
    "cloned_layers = C.combine([last_node.owner]).clone(\n",
    "                C.CloneMethod.clone,\n",
    "                {features_node: C.placeholder(name='features')})\n",
    "\n",
    "# features_input = C.input_variable((num_channels, image_height, image_width), name='features')\n",
    "def create_resnet_model(input, out_dims):\n",
    "    \n",
    "    net = cloned_layers(input)\n",
    "    net = C.layers.Dense(out_dims, activation=C.softmax)(net) \n",
    "    \n",
    "    return net"
   ]
  },
  {
   "cell_type": "markdown",
   "metadata": {},
   "source": [
    "### Inception Model"
   ]
  },
  {
   "cell_type": "code",
   "execution_count": 47,
   "metadata": {},
   "outputs": [
    {
     "name": "stdout",
     "output_type": "stream",
     "text": [
      "None\n",
      "pool5/drop_7x7_s1: Dropout(pool5/7x7_s1: Tensor[1024,1,1]) -> Tensor[1024,1,1]\n"
     ]
    }
   ],
   "source": [
    "# load pretrained resnet model\n",
    "inception_model = C.load_model('PretrainedModels/BNInception_ImageNet_Caffe.model')\n",
    "\n",
    "# modify input and output layer of model\n",
    "# to match wood data\n",
    "features_node = C.logging.graph.find_by_name(inception_model, 'feature')\n",
    "last_node = C.logging.graph.find_by_name(inception_model, 'pool5/drop_7x7_s1')\n",
    "# node_outputs = C.logging.get_node_outputs(inception_model)\n",
    "# for l in node_outputs: print(\" {0} {1}\".format(l.name, l.shape))\n",
    "print(features_node)\n",
    "print(last_node)"
   ]
  },
  {
   "cell_type": "code",
   "execution_count": null,
   "metadata": {},
   "outputs": [],
   "source": [
    "# transfer clone all layers allowing to train new weights\n",
    "\n",
    "cloned_layers = C.combine([last_node.owner]).clone(\n",
    "                C.CloneMethod.clone,\n",
    "                {features_node: C.placeholder(name='features')})\n",
    "\n",
    "# features_input = C.input_variable((num_channels, image_height, image_width), name='features')\n",
    "def create_inception_model(input, out_dims):\n",
    "    \n",
    "    net = cloned_layers(input)\n",
    "    net = C.layers.Dense(out_dims, activation=C.softmax)(net) \n",
    "    \n",
    "    return net"
   ]
  },
  {
   "cell_type": "markdown",
   "metadata": {},
   "source": [
    "<b><h1> Training (with basic test result)</h1></b>\n",
    "\n",
    "##### Skip to [here](#trained_model), to skip training"
   ]
  },
  {
   "cell_type": "code",
   "execution_count": 6,
   "metadata": {},
   "outputs": [],
   "source": [
    "# Training and testing network\n",
    "def train_and_test(reader_train, reader_test, max_epochs, model_func, model_name, saving_rate=5):\n",
    "    \n",
    "    run_number = 0 # multiple of 5\n",
    "    # saving trainer location\n",
    "    chk = 'checkpoints/{}/test_run_1/trainer_{}_{}.dnn'.format(model_name, model_name, str(run_number))\n",
    "    # input containers for labels and features of data\\\n",
    "    input_var = C.input_variable((num_channels, image_height, image_width))\n",
    "    label_var = C.input_variable(num_classes)\n",
    "    \n",
    "    # Normalize the input data (improves performance)\n",
    "    feature_scale = 1.0 / 256\n",
    "    input_var_norm = C.element_times(feature_scale, input_var)\n",
    "    \n",
    "    # apply model to input\n",
    "    z = model_func(input_var_norm, out_dims=12)\n",
    "    \n",
    "    #\n",
    "    # Training section\n",
    "    #\n",
    "    \n",
    "    # defining loss function and metric for training\n",
    "    \n",
    "    # loss and metric\n",
    "    ce = C.cross_entropy_with_softmax(z, label_var)\n",
    "    pe = C.classification_error(z, label_var)\n",
    "    \n",
    "    # training configuration\n",
    "    epoch_size = 5708 # number of testing samples\n",
    "    minibatch_size = 64 # may need adjusting based on system memory\n",
    "    \n",
    "    # training parameters\n",
    "    lr_per_minibatch = C.learning_parameter_schedule([0.05] * 50 + [0.01],\n",
    "                                                    epoch_size=epoch_size)\n",
    "    momentums        = C.momentum_schedule(0.9, minibatch_size = minibatch_size)\n",
    "    l2_reg_weight   = 0.001\n",
    "    \n",
    "    #trainer object\n",
    "    learner = C.momentum_sgd(z.parameters,\n",
    "                            lr = lr_per_minibatch,\n",
    "                            momentum = momentums,\n",
    "                            l2_regularization_weight = l2_reg_weight)\n",
    "    progress_printer = C.logging.ProgressPrinter(tag='Training', num_epochs=max_epochs)\n",
    "    \n",
    "    #initialize trainer object \n",
    "    trainer = C.Trainer(z, (ce,pe), [learner], [progress_printer])\n",
    "    \n",
    "    # restore from checkpoint \n",
    "    if os.path.exists(chk):\n",
    "        print('Restoring from checkpoint')\n",
    "        mb_source_state = trainer.restore_from_checkpoint(chk)\n",
    "        reader_train.restore_from_checkpoint(mb_source_state)\n",
    "    else:\n",
    "        print('Random Init')\n",
    "        \n",
    "    \n",
    "            \n",
    "    # define mapping from reader streams to network inputs\n",
    "    input_map = {\n",
    "        input_var: reader_train.streams.features,\n",
    "        label_var: reader_train.streams.labels\n",
    "    }\n",
    "    \n",
    "    C.logging.log_number_of_parameters(z) ; print()\n",
    "    \n",
    "    # perform model training\n",
    "    batch_index = 0 \n",
    "    plot_data = {'batchindex':[], 'loss':[], 'error':[]}\n",
    "    for epoch in range(max_epochs): # loop over epochs\n",
    "        sample_count = 0\n",
    "        \n",
    "        while sample_count < epoch_size: # loop over minibatches in the epoch\n",
    "            data = reader_train.next_minibatch(min(minibatch_size, epoch_size - sample_count),\n",
    "                                              input_map=input_map) # fetch the gooood minibacth\n",
    "            trainer.train_minibatch(data)                          # updat model with da good minibatch\n",
    "            \n",
    "            sample_count += data[label_var].num_samples            # count number of samples processed\n",
    "            \n",
    "            # display results\n",
    "            plot_data['batchindex'].append(batch_index)\n",
    "            plot_data['loss'].append(trainer.previous_minibatch_loss_average)\n",
    "            plot_data['error'].append(trainer.previous_minibatch_evaluation_average)\n",
    "            \n",
    "            batch_index += 1\n",
    "        # checkpoint saving\n",
    "        if (epoch+1) % saving_rate == 0:\n",
    "            mb_source_chk = reader_train.get_checkpoint_state()\n",
    "            trainer.save_checkpoint('checkpoints/{}/test_run_1/trainer_{}_{}.dnn'.format(model_name, model_name, str(epoch+run_number+1)), mb_source_chk)\n",
    "            z.save('model/{}/test_run_1/{}_0.1_{}.model'.format(model_name, model_name, str(epoch+run_number+1)))\n",
    "            \n",
    "            \n",
    "        trainer.summarize_training_progress()\n",
    "    #\n",
    "    # Evaluation action\n",
    "    #\n",
    "    epoch_size     = 2836\n",
    "    minibatch_size = 32\n",
    "\n",
    "    # process minibatches and evaluate the model\n",
    "    metric_numer    = 0\n",
    "    metric_denom    = 0\n",
    "    sample_count    = 0\n",
    "    minibatch_index = 0\n",
    "\n",
    "    while sample_count < epoch_size:\n",
    "        current_minibatch = min(minibatch_size, epoch_size - sample_count)\n",
    "\n",
    "        # Fetch next test min batch.\n",
    "        data = reader_test.next_minibatch(current_minibatch, input_map=input_map)\n",
    "\n",
    "        # minibatch data to be trained with\n",
    "        metric_numer += trainer.test_minibatch(data) * current_minibatch\n",
    "        metric_denom += current_minibatch\n",
    "\n",
    "        # Keep track of the number of samples processed so far.\n",
    "        sample_count += data[label_var].num_samples\n",
    "        minibatch_index += 1\n",
    "\n",
    "    print(\"\")\n",
    "    print(\"Final Results: Minibatch[1-{}]: errs = {:0.1f}% * {}\".format(minibatch_index+1, (metric_numer*100.0)/metric_denom, metric_denom))\n",
    "    print(\"\")\n",
    "\n",
    "    # Visualize training result:\n",
    "    window_width = 8\n",
    "    loss_cumsum  = np.cumsum(np.insert(plot_data['loss'], 0, 0))\n",
    "    error_cumsum = np.cumsum(np.insert(plot_data['error'], 0, 0))\n",
    "    \n",
    "    # Moving Average\n",
    "    plot_data['batchindex'] = np.insert(plot_data['batchindex'], 0, 0)[window_width:]\n",
    "    plot_data['avg_loss']   = (loss_cumsum[window_width:] - loss_cumsum[:-window_width]) / window_width\n",
    "    plot_data['avg_error']  = (error_cumsum[window_width:] - error_cumsum[:-window_width]) / window_width\n",
    "    \n",
    "    plt.figure(1)\n",
    "    plt.subplot(211)\n",
    "    plt.plot(plot_data[\"batchindex\"], plot_data[\"avg_loss\"], 'b--')\n",
    "    plt.xlabel('Minibatch number')\n",
    "    plt.ylabel('Loss')\n",
    "    plt.title('Minibatch run vs. Training loss ')\n",
    "\n",
    "    plt.show()\n",
    "\n",
    "    plt.subplot(212)\n",
    "    plt.plot(plot_data[\"batchindex\"], plot_data[\"avg_error\"], 'r--')\n",
    "    plt.xlabel('Minibatch number')\n",
    "    plt.ylabel('Label Prediction Error')\n",
    "    plt.title('Minibatch run vs. Label Prediction Error ')\n",
    "    plt.show()\n",
    "    \n",
    "    return z\n",
    "    "
   ]
  },
  {
   "cell_type": "markdown",
   "metadata": {},
   "source": [
    "### Basic model (for testing)"
   ]
  },
  {
   "cell_type": "code",
   "execution_count": 9,
   "metadata": {},
   "outputs": [
    {
     "ename": "NameError",
     "evalue": "name 'create_basic_model' is not defined",
     "output_type": "error",
     "traceback": [
      "\u001b[1;31m---------------------------------------------------------------------------\u001b[0m",
      "\u001b[1;31mNameError\u001b[0m                                 Traceback (most recent call last)",
      "\u001b[1;32m<ipython-input-9-94b702aceacc>\u001b[0m in \u001b[0;36m<module>\u001b[1;34m()\u001b[0m\n\u001b[0;32m      3\u001b[0m                      \u001b[0mreader_test\u001b[0m\u001b[1;33m,\u001b[0m\u001b[1;33m\u001b[0m\u001b[0m\n\u001b[0;32m      4\u001b[0m                      \u001b[0mmax_epochs\u001b[0m\u001b[1;33m=\u001b[0m\u001b[1;36m5\u001b[0m\u001b[1;33m,\u001b[0m    \u001b[1;31m# change number of epochs here\u001b[0m\u001b[1;33m\u001b[0m\u001b[0m\n\u001b[1;32m----> 5\u001b[1;33m                      model_func=create_basic_model)\n\u001b[0m",
      "\u001b[1;31mNameError\u001b[0m: name 'create_basic_model' is not defined"
     ]
    }
   ],
   "source": [
    "# train basic model from random init\n",
    "pred_basic_model = train_and_test(reader_train,\n",
    "                     reader_test,\n",
    "                     max_epochs=5,    # change number of epochs here\n",
    "                     model_func=create_basic_model)"
   ]
  },
  {
   "cell_type": "markdown",
   "metadata": {},
   "source": [
    "### VGG model"
   ]
  },
  {
   "cell_type": "code",
   "execution_count": 7,
   "metadata": {},
   "outputs": [
    {
     "name": "stdout",
     "output_type": "stream",
     "text": [
      "Random Init\n",
      "Training 93339980 parameters in 50 parameter tensors.\n",
      "\n"
     ]
    },
    {
     "ename": "RuntimeError",
     "evalue": "std::bad_alloc",
     "output_type": "error",
     "traceback": [
      "\u001b[1;31m---------------------------------------------------------------------------\u001b[0m",
      "\u001b[1;31mRuntimeError\u001b[0m                              Traceback (most recent call last)",
      "\u001b[1;32m<ipython-input-7-91683c64332f>\u001b[0m in \u001b[0;36m<module>\u001b[1;34m()\u001b[0m\n\u001b[0;32m      4\u001b[0m                      \u001b[0mmax_epochs\u001b[0m\u001b[1;33m=\u001b[0m\u001b[1;36m5\u001b[0m\u001b[1;33m,\u001b[0m            \u001b[1;31m# change number of epochs here\u001b[0m\u001b[1;33m\u001b[0m\u001b[0m\n\u001b[0;32m      5\u001b[0m                      \u001b[0mmodel_func\u001b[0m\u001b[1;33m=\u001b[0m\u001b[0mcreate_VGG_model\u001b[0m\u001b[1;33m,\u001b[0m\u001b[1;33m\u001b[0m\u001b[0m\n\u001b[1;32m----> 6\u001b[1;33m                     model_name='VGG')\n\u001b[0m",
      "\u001b[1;32m<ipython-input-6-e8d51a7d3377>\u001b[0m in \u001b[0;36mtrain_and_test\u001b[1;34m(reader_train, reader_test, max_epochs, model_func, model_name, saving_rate)\u001b[0m\n\u001b[0;32m     73\u001b[0m             data = reader_train.next_minibatch(min(minibatch_size, epoch_size - sample_count),\n\u001b[0;32m     74\u001b[0m                                               input_map=input_map) # fetch the gooood minibacth\n\u001b[1;32m---> 75\u001b[1;33m             \u001b[0mtrainer\u001b[0m\u001b[1;33m.\u001b[0m\u001b[0mtrain_minibatch\u001b[0m\u001b[1;33m(\u001b[0m\u001b[0mdata\u001b[0m\u001b[1;33m)\u001b[0m                          \u001b[1;31m# updat model with da good minibatch\u001b[0m\u001b[1;33m\u001b[0m\u001b[0m\n\u001b[0m\u001b[0;32m     76\u001b[0m \u001b[1;33m\u001b[0m\u001b[0m\n\u001b[0;32m     77\u001b[0m             \u001b[0msample_count\u001b[0m \u001b[1;33m+=\u001b[0m \u001b[0mdata\u001b[0m\u001b[1;33m[\u001b[0m\u001b[0mlabel_var\u001b[0m\u001b[1;33m]\u001b[0m\u001b[1;33m.\u001b[0m\u001b[0mnum_samples\u001b[0m            \u001b[1;31m# count number of samples processed\u001b[0m\u001b[1;33m\u001b[0m\u001b[0m\n",
      "\u001b[1;32m/home/william/anaconda3/lib/python3.5/site-packages/cntk/train/trainer.py\u001b[0m in \u001b[0;36mtrain_minibatch\u001b[1;34m(self, arguments, outputs, device, is_sweep_end)\u001b[0m\n\u001b[0;32m    179\u001b[0m             \u001b[1;32mif\u001b[0m \u001b[0mcontains_minibatch_data\u001b[0m\u001b[1;33m:\u001b[0m\u001b[1;33m\u001b[0m\u001b[0m\n\u001b[0;32m    180\u001b[0m                 updated = super(Trainer, self).train_minibatch_overload_for_minibatchdata(\n\u001b[1;32m--> 181\u001b[1;33m                     arguments, device)\n\u001b[0m\u001b[0;32m    182\u001b[0m             \u001b[1;32melse\u001b[0m\u001b[1;33m:\u001b[0m\u001b[1;33m\u001b[0m\u001b[0m\n\u001b[0;32m    183\u001b[0m                 updated = super(Trainer, self).train_minibatch(arguments, is_sweep_end,\n",
      "\u001b[1;32m/home/william/anaconda3/lib/python3.5/site-packages/cntk/cntk_py.py\u001b[0m in \u001b[0;36mtrain_minibatch_overload_for_minibatchdata\u001b[1;34m(self, *args)\u001b[0m\n\u001b[0;32m   3067\u001b[0m \u001b[1;33m\u001b[0m\u001b[0m\n\u001b[0;32m   3068\u001b[0m     \u001b[1;32mdef\u001b[0m \u001b[0mtrain_minibatch_overload_for_minibatchdata\u001b[0m\u001b[1;33m(\u001b[0m\u001b[0mself\u001b[0m\u001b[1;33m,\u001b[0m \u001b[1;33m*\u001b[0m\u001b[0margs\u001b[0m\u001b[1;33m)\u001b[0m\u001b[1;33m:\u001b[0m\u001b[1;33m\u001b[0m\u001b[0m\n\u001b[1;32m-> 3069\u001b[1;33m         \u001b[1;32mreturn\u001b[0m \u001b[0m_cntk_py\u001b[0m\u001b[1;33m.\u001b[0m\u001b[0mTrainer_train_minibatch_overload_for_minibatchdata\u001b[0m\u001b[1;33m(\u001b[0m\u001b[0mself\u001b[0m\u001b[1;33m,\u001b[0m \u001b[1;33m*\u001b[0m\u001b[0margs\u001b[0m\u001b[1;33m)\u001b[0m\u001b[1;33m\u001b[0m\u001b[0m\n\u001b[0m\u001b[0;32m   3070\u001b[0m \u001b[1;33m\u001b[0m\u001b[0m\n\u001b[0;32m   3071\u001b[0m     \u001b[1;32mdef\u001b[0m \u001b[0mtrain_minibatch\u001b[0m\u001b[1;33m(\u001b[0m\u001b[0mself\u001b[0m\u001b[1;33m,\u001b[0m \u001b[1;33m*\u001b[0m\u001b[0margs\u001b[0m\u001b[1;33m)\u001b[0m\u001b[1;33m:\u001b[0m\u001b[1;33m\u001b[0m\u001b[0m\n",
      "\u001b[1;31mRuntimeError\u001b[0m: std::bad_alloc"
     ]
    }
   ],
   "source": [
    "# train VGG model\n",
    "VGG_model = train_and_test(reader_train,\n",
    "                     reader_test,\n",
    "                     max_epochs=5,            # change number of epochs here\n",
    "                     model_func=create_VGG_model,\n",
    "                    model_name='VGG')"
   ]
  },
  {
   "cell_type": "markdown",
   "metadata": {},
   "source": [
    "### Resnet model"
   ]
  },
  {
   "cell_type": "code",
   "execution_count": 67,
   "metadata": {},
   "outputs": [
    {
     "ename": "TypeError",
     "evalue": "argument features's type SequenceOver[][Tensor[3,224,224]] is incompatible with the type Tensor[3,200,200] of the passed Variable",
     "output_type": "error",
     "traceback": [
      "\u001b[1;31m---------------------------------------------------------------------------\u001b[0m",
      "\u001b[1;31mTypeError\u001b[0m                                 Traceback (most recent call last)",
      "\u001b[1;32m<ipython-input-67-c160e2b19aa0>\u001b[0m in \u001b[0;36m<module>\u001b[1;34m()\u001b[0m\n\u001b[0;32m      4\u001b[0m                      \u001b[0mmax_epochs\u001b[0m\u001b[1;33m=\u001b[0m\u001b[1;36m1\u001b[0m\u001b[1;33m,\u001b[0m            \u001b[1;31m# change number of epochs here\u001b[0m\u001b[1;33m\u001b[0m\u001b[0m\n\u001b[0;32m      5\u001b[0m                      \u001b[0mmodel_func\u001b[0m\u001b[1;33m=\u001b[0m\u001b[0mcreate_resnet_model\u001b[0m\u001b[1;33m,\u001b[0m\u001b[1;33m\u001b[0m\u001b[0m\n\u001b[1;32m----> 6\u001b[1;33m                      model_name='resnet')\n\u001b[0m",
      "\u001b[1;32m<ipython-input-62-ce7c0ff3fd02>\u001b[0m in \u001b[0;36mtrain_and_test\u001b[1;34m(reader_train, reader_test, max_epochs, model_func, model_name, saving_rate)\u001b[0m\n\u001b[0;32m     14\u001b[0m \u001b[1;33m\u001b[0m\u001b[0m\n\u001b[0;32m     15\u001b[0m     \u001b[1;31m# apply model to input\u001b[0m\u001b[1;33m\u001b[0m\u001b[1;33m\u001b[0m\u001b[0m\n\u001b[1;32m---> 16\u001b[1;33m     \u001b[0mz\u001b[0m \u001b[1;33m=\u001b[0m \u001b[0mmodel_func\u001b[0m\u001b[1;33m(\u001b[0m\u001b[0minput_var_norm\u001b[0m\u001b[1;33m,\u001b[0m \u001b[0mout_dims\u001b[0m\u001b[1;33m=\u001b[0m\u001b[1;36m12\u001b[0m\u001b[1;33m)\u001b[0m\u001b[1;33m\u001b[0m\u001b[0m\n\u001b[0m\u001b[0;32m     17\u001b[0m \u001b[1;33m\u001b[0m\u001b[0m\n\u001b[0;32m     18\u001b[0m     \u001b[1;31m#\u001b[0m\u001b[1;33m\u001b[0m\u001b[1;33m\u001b[0m\u001b[0m\n",
      "\u001b[1;32m<ipython-input-66-1e6cc3112031>\u001b[0m in \u001b[0;36mcreate_resnet_model\u001b[1;34m(input, out_dims)\u001b[0m\n\u001b[0;32m      7\u001b[0m \u001b[1;32mdef\u001b[0m \u001b[0mcreate_resnet_model\u001b[0m\u001b[1;33m(\u001b[0m\u001b[0minput\u001b[0m\u001b[1;33m,\u001b[0m \u001b[0mout_dims\u001b[0m\u001b[1;33m)\u001b[0m\u001b[1;33m:\u001b[0m\u001b[1;33m\u001b[0m\u001b[0m\n\u001b[0;32m      8\u001b[0m \u001b[1;33m\u001b[0m\u001b[0m\n\u001b[1;32m----> 9\u001b[1;33m     \u001b[0mnet\u001b[0m \u001b[1;33m=\u001b[0m \u001b[0mcloned_layers\u001b[0m\u001b[1;33m(\u001b[0m\u001b[0minput\u001b[0m\u001b[1;33m)\u001b[0m\u001b[1;33m\u001b[0m\u001b[0m\n\u001b[0m\u001b[0;32m     10\u001b[0m     \u001b[0mnet\u001b[0m \u001b[1;33m=\u001b[0m \u001b[0mC\u001b[0m\u001b[1;33m.\u001b[0m\u001b[0mlayers\u001b[0m\u001b[1;33m.\u001b[0m\u001b[0mDense\u001b[0m\u001b[1;33m(\u001b[0m\u001b[0mout_dims\u001b[0m\u001b[1;33m,\u001b[0m \u001b[0mactivation\u001b[0m\u001b[1;33m=\u001b[0m\u001b[0mC\u001b[0m\u001b[1;33m.\u001b[0m\u001b[0msoftmax\u001b[0m\u001b[1;33m)\u001b[0m\u001b[1;33m(\u001b[0m\u001b[0mnet\u001b[0m\u001b[1;33m)\u001b[0m\u001b[1;33m\u001b[0m\u001b[0m\n\u001b[0;32m     11\u001b[0m \u001b[1;33m\u001b[0m\u001b[0m\n",
      "\u001b[1;32m/home/william/anaconda3/lib/python3.5/site-packages/cntk/ops/functions.py\u001b[0m in \u001b[0;36m__call__\u001b[1;34m(self, *args, **kwargs)\u001b[0m\n\u001b[0;32m    425\u001b[0m         \u001b[1;31m# applying the function means to inline its piece of graph\u001b[0m\u001b[1;33m\u001b[0m\u001b[1;33m\u001b[0m\u001b[0m\n\u001b[0;32m    426\u001b[0m         \u001b[1;32mif\u001b[0m \u001b[0mis_symbolic\u001b[0m\u001b[1;33m:\u001b[0m\u001b[1;33m\u001b[0m\u001b[0m\n\u001b[1;32m--> 427\u001b[1;33m             \u001b[0mFunction\u001b[0m\u001b[1;33m.\u001b[0m\u001b[0m_replace_args_type_check\u001b[0m\u001b[1;33m(\u001b[0m\u001b[0marg_map\u001b[0m\u001b[1;33m)\u001b[0m\u001b[1;33m\u001b[0m\u001b[0m\n\u001b[0m\u001b[0;32m    428\u001b[0m             \u001b[1;32mreturn\u001b[0m \u001b[0mself\u001b[0m\u001b[1;33m.\u001b[0m\u001b[0mclone\u001b[0m\u001b[1;33m(\u001b[0m\u001b[0mCloneMethod\u001b[0m\u001b[1;33m.\u001b[0m\u001b[0mshare\u001b[0m\u001b[1;33m,\u001b[0m \u001b[0marg_map\u001b[0m\u001b[1;33m)\u001b[0m\u001b[1;33m\u001b[0m\u001b[0m\n\u001b[0;32m    429\u001b[0m \u001b[1;33m\u001b[0m\u001b[0m\n",
      "\u001b[1;32m/home/william/anaconda3/lib/python3.5/site-packages/cntk/ops/functions.py\u001b[0m in \u001b[0;36m_replace_args_type_check\u001b[1;34m(arg_map)\u001b[0m\n\u001b[0;32m    339\u001b[0m                    \u001b[0marg_type\u001b[0m\u001b[1;33m.\u001b[0m\u001b[0mdtype\u001b[0m \u001b[1;33m!=\u001b[0m \u001b[0mparam_type\u001b[0m\u001b[1;33m.\u001b[0m\u001b[0mdtype\u001b[0m \u001b[1;32mor\u001b[0m\u001b[0;31m \u001b[0m\u001b[0;31m\\\u001b[0m\u001b[1;33m\u001b[0m\u001b[0m\n\u001b[0;32m    340\u001b[0m                    \u001b[0marg_type\u001b[0m\u001b[1;33m.\u001b[0m\u001b[0mis_sparse\u001b[0m \u001b[1;33m!=\u001b[0m \u001b[0mparam_type\u001b[0m\u001b[1;33m.\u001b[0m\u001b[0mis_sparse\u001b[0m\u001b[1;33m:\u001b[0m\u001b[1;33m\u001b[0m\u001b[0m\n\u001b[1;32m--> 341\u001b[1;33m                 \u001b[1;32mraise\u001b[0m \u001b[0mTypeError\u001b[0m\u001b[1;33m(\u001b[0m\u001b[0mparam_name\u001b[0m\u001b[1;33m(\u001b[0m\u001b[1;33m)\u001b[0m \u001b[1;33m+\u001b[0m \u001b[1;34m\"'s type \"\u001b[0m \u001b[1;33m+\u001b[0m \u001b[0mstr\u001b[0m\u001b[1;33m(\u001b[0m\u001b[0mparam_type\u001b[0m\u001b[1;33m)\u001b[0m \u001b[1;33m+\u001b[0m \u001b[1;34m\" is incompatible with the type \"\u001b[0m \u001b[1;33m+\u001b[0m \u001b[0mstr\u001b[0m\u001b[1;33m(\u001b[0m\u001b[0marg_type\u001b[0m\u001b[1;33m)\u001b[0m \u001b[1;33m+\u001b[0m \u001b[1;34m\" of the passed Variable\"\u001b[0m\u001b[1;33m)\u001b[0m\u001b[1;33m\u001b[0m\u001b[0m\n\u001b[0m\u001b[0;32m    342\u001b[0m \u001b[1;33m\u001b[0m\u001b[0m\n\u001b[0;32m    343\u001b[0m     \u001b[1;32mdef\u001b[0m \u001b[0mupdate_signature\u001b[0m\u001b[1;33m(\u001b[0m\u001b[0mself\u001b[0m\u001b[1;33m,\u001b[0m \u001b[1;33m*\u001b[0m\u001b[0marg_types\u001b[0m\u001b[1;33m,\u001b[0m \u001b[1;33m**\u001b[0m\u001b[0mkwarg_types\u001b[0m\u001b[1;33m)\u001b[0m\u001b[1;33m:\u001b[0m\u001b[1;33m\u001b[0m\u001b[0m\n",
      "\u001b[1;31mTypeError\u001b[0m: argument features's type SequenceOver[][Tensor[3,224,224]] is incompatible with the type Tensor[3,200,200] of the passed Variable"
     ]
    }
   ],
   "source": [
    "# train resnet model\n",
    "resnet_model = train_and_test(reader_train,\n",
    "                     reader_test,\n",
    "                     max_epochs=1,            # change number of epochs here\n",
    "                     model_func=create_resnet_model,\n",
    "                     model_name='resnet')"
   ]
  },
  {
   "cell_type": "markdown",
   "metadata": {},
   "source": [
    "### Inception Model"
   ]
  },
  {
   "cell_type": "code",
   "execution_count": 63,
   "metadata": {},
   "outputs": [
    {
     "ename": "TypeError",
     "evalue": "argument features's type SequenceOver[][Tensor[3,224,224]] is incompatible with the type Tensor[3,200,200] of the passed Variable",
     "output_type": "error",
     "traceback": [
      "\u001b[1;31m---------------------------------------------------------------------------\u001b[0m",
      "\u001b[1;31mTypeError\u001b[0m                                 Traceback (most recent call last)",
      "\u001b[1;32m<ipython-input-63-adc9372778bb>\u001b[0m in \u001b[0;36m<module>\u001b[1;34m()\u001b[0m\n\u001b[0;32m      4\u001b[0m                      \u001b[0mmax_epochs\u001b[0m\u001b[1;33m=\u001b[0m\u001b[1;36m1\u001b[0m\u001b[1;33m,\u001b[0m            \u001b[1;31m# change number of epochs here\u001b[0m\u001b[1;33m\u001b[0m\u001b[0m\n\u001b[0;32m      5\u001b[0m                      \u001b[0mmodel_func\u001b[0m\u001b[1;33m=\u001b[0m\u001b[0mcreate_inception_model\u001b[0m\u001b[1;33m,\u001b[0m\u001b[1;33m\u001b[0m\u001b[0m\n\u001b[1;32m----> 6\u001b[1;33m                      model_name='inception')\n\u001b[0m",
      "\u001b[1;32m<ipython-input-62-ce7c0ff3fd02>\u001b[0m in \u001b[0;36mtrain_and_test\u001b[1;34m(reader_train, reader_test, max_epochs, model_func, model_name, saving_rate)\u001b[0m\n\u001b[0;32m     14\u001b[0m \u001b[1;33m\u001b[0m\u001b[0m\n\u001b[0;32m     15\u001b[0m     \u001b[1;31m# apply model to input\u001b[0m\u001b[1;33m\u001b[0m\u001b[1;33m\u001b[0m\u001b[0m\n\u001b[1;32m---> 16\u001b[1;33m     \u001b[0mz\u001b[0m \u001b[1;33m=\u001b[0m \u001b[0mmodel_func\u001b[0m\u001b[1;33m(\u001b[0m\u001b[0minput_var_norm\u001b[0m\u001b[1;33m,\u001b[0m \u001b[0mout_dims\u001b[0m\u001b[1;33m=\u001b[0m\u001b[1;36m12\u001b[0m\u001b[1;33m)\u001b[0m\u001b[1;33m\u001b[0m\u001b[0m\n\u001b[0m\u001b[0;32m     17\u001b[0m \u001b[1;33m\u001b[0m\u001b[0m\n\u001b[0;32m     18\u001b[0m     \u001b[1;31m#\u001b[0m\u001b[1;33m\u001b[0m\u001b[1;33m\u001b[0m\u001b[0m\n",
      "\u001b[1;32m<ipython-input-61-1013772d5b37>\u001b[0m in \u001b[0;36mcreate_inception_model\u001b[1;34m(input, out_dims)\u001b[0m\n\u001b[0;32m      6\u001b[0m \u001b[1;32mdef\u001b[0m \u001b[0mcreate_inception_model\u001b[0m\u001b[1;33m(\u001b[0m\u001b[0minput\u001b[0m\u001b[1;33m,\u001b[0m \u001b[0mout_dims\u001b[0m\u001b[1;33m)\u001b[0m\u001b[1;33m:\u001b[0m\u001b[1;33m\u001b[0m\u001b[0m\n\u001b[0;32m      7\u001b[0m \u001b[1;33m\u001b[0m\u001b[0m\n\u001b[1;32m----> 8\u001b[1;33m     \u001b[0mnet\u001b[0m \u001b[1;33m=\u001b[0m \u001b[0mcloned_layers\u001b[0m\u001b[1;33m(\u001b[0m\u001b[0minput\u001b[0m\u001b[1;33m)\u001b[0m\u001b[1;33m\u001b[0m\u001b[0m\n\u001b[0m\u001b[0;32m      9\u001b[0m     \u001b[0mnet\u001b[0m \u001b[1;33m=\u001b[0m \u001b[0mC\u001b[0m\u001b[1;33m.\u001b[0m\u001b[0mlayers\u001b[0m\u001b[1;33m.\u001b[0m\u001b[0mDense\u001b[0m\u001b[1;33m(\u001b[0m\u001b[0mout_dims\u001b[0m\u001b[1;33m,\u001b[0m \u001b[0mactivation\u001b[0m\u001b[1;33m=\u001b[0m\u001b[0mC\u001b[0m\u001b[1;33m.\u001b[0m\u001b[0msoftmax\u001b[0m\u001b[1;33m)\u001b[0m\u001b[1;33m(\u001b[0m\u001b[0mnet\u001b[0m\u001b[1;33m)\u001b[0m\u001b[1;33m\u001b[0m\u001b[0m\n\u001b[0;32m     10\u001b[0m \u001b[1;33m\u001b[0m\u001b[0m\n",
      "\u001b[1;32m/home/william/anaconda3/lib/python3.5/site-packages/cntk/ops/functions.py\u001b[0m in \u001b[0;36m__call__\u001b[1;34m(self, *args, **kwargs)\u001b[0m\n\u001b[0;32m    425\u001b[0m         \u001b[1;31m# applying the function means to inline its piece of graph\u001b[0m\u001b[1;33m\u001b[0m\u001b[1;33m\u001b[0m\u001b[0m\n\u001b[0;32m    426\u001b[0m         \u001b[1;32mif\u001b[0m \u001b[0mis_symbolic\u001b[0m\u001b[1;33m:\u001b[0m\u001b[1;33m\u001b[0m\u001b[0m\n\u001b[1;32m--> 427\u001b[1;33m             \u001b[0mFunction\u001b[0m\u001b[1;33m.\u001b[0m\u001b[0m_replace_args_type_check\u001b[0m\u001b[1;33m(\u001b[0m\u001b[0marg_map\u001b[0m\u001b[1;33m)\u001b[0m\u001b[1;33m\u001b[0m\u001b[0m\n\u001b[0m\u001b[0;32m    428\u001b[0m             \u001b[1;32mreturn\u001b[0m \u001b[0mself\u001b[0m\u001b[1;33m.\u001b[0m\u001b[0mclone\u001b[0m\u001b[1;33m(\u001b[0m\u001b[0mCloneMethod\u001b[0m\u001b[1;33m.\u001b[0m\u001b[0mshare\u001b[0m\u001b[1;33m,\u001b[0m \u001b[0marg_map\u001b[0m\u001b[1;33m)\u001b[0m\u001b[1;33m\u001b[0m\u001b[0m\n\u001b[0;32m    429\u001b[0m \u001b[1;33m\u001b[0m\u001b[0m\n",
      "\u001b[1;32m/home/william/anaconda3/lib/python3.5/site-packages/cntk/ops/functions.py\u001b[0m in \u001b[0;36m_replace_args_type_check\u001b[1;34m(arg_map)\u001b[0m\n\u001b[0;32m    339\u001b[0m                    \u001b[0marg_type\u001b[0m\u001b[1;33m.\u001b[0m\u001b[0mdtype\u001b[0m \u001b[1;33m!=\u001b[0m \u001b[0mparam_type\u001b[0m\u001b[1;33m.\u001b[0m\u001b[0mdtype\u001b[0m \u001b[1;32mor\u001b[0m\u001b[0;31m \u001b[0m\u001b[0;31m\\\u001b[0m\u001b[1;33m\u001b[0m\u001b[0m\n\u001b[0;32m    340\u001b[0m                    \u001b[0marg_type\u001b[0m\u001b[1;33m.\u001b[0m\u001b[0mis_sparse\u001b[0m \u001b[1;33m!=\u001b[0m \u001b[0mparam_type\u001b[0m\u001b[1;33m.\u001b[0m\u001b[0mis_sparse\u001b[0m\u001b[1;33m:\u001b[0m\u001b[1;33m\u001b[0m\u001b[0m\n\u001b[1;32m--> 341\u001b[1;33m                 \u001b[1;32mraise\u001b[0m \u001b[0mTypeError\u001b[0m\u001b[1;33m(\u001b[0m\u001b[0mparam_name\u001b[0m\u001b[1;33m(\u001b[0m\u001b[1;33m)\u001b[0m \u001b[1;33m+\u001b[0m \u001b[1;34m\"'s type \"\u001b[0m \u001b[1;33m+\u001b[0m \u001b[0mstr\u001b[0m\u001b[1;33m(\u001b[0m\u001b[0mparam_type\u001b[0m\u001b[1;33m)\u001b[0m \u001b[1;33m+\u001b[0m \u001b[1;34m\" is incompatible with the type \"\u001b[0m \u001b[1;33m+\u001b[0m \u001b[0mstr\u001b[0m\u001b[1;33m(\u001b[0m\u001b[0marg_type\u001b[0m\u001b[1;33m)\u001b[0m \u001b[1;33m+\u001b[0m \u001b[1;34m\" of the passed Variable\"\u001b[0m\u001b[1;33m)\u001b[0m\u001b[1;33m\u001b[0m\u001b[0m\n\u001b[0m\u001b[0;32m    342\u001b[0m \u001b[1;33m\u001b[0m\u001b[0m\n\u001b[0;32m    343\u001b[0m     \u001b[1;32mdef\u001b[0m \u001b[0mupdate_signature\u001b[0m\u001b[1;33m(\u001b[0m\u001b[0mself\u001b[0m\u001b[1;33m,\u001b[0m \u001b[1;33m*\u001b[0m\u001b[0marg_types\u001b[0m\u001b[1;33m,\u001b[0m \u001b[1;33m**\u001b[0m\u001b[0mkwarg_types\u001b[0m\u001b[1;33m)\u001b[0m\u001b[1;33m:\u001b[0m\u001b[1;33m\u001b[0m\u001b[0m\n",
      "\u001b[1;31mTypeError\u001b[0m: argument features's type SequenceOver[][Tensor[3,224,224]] is incompatible with the type Tensor[3,200,200] of the passed Variable"
     ]
    }
   ],
   "source": [
    "# train resnet model\n",
    "resnet_model = train_and_test(reader_train,\n",
    "                     reader_test,\n",
    "                     max_epochs=1,            # change number of epochs here\n",
    "                     model_func=create_inception_model,\n",
    "                     model_name='inception')"
   ]
  },
  {
   "cell_type": "markdown",
   "metadata": {},
   "source": [
    "<b><h1>Testing models</h1></b>\n",
    "##### Need to add better output option"
   ]
  },
  {
   "cell_type": "code",
   "execution_count": 5,
   "metadata": {},
   "outputs": [],
   "source": [
    "# location of test data returns list of filenames and idx\n",
    "def read_test_img(filename):\n",
    "    with open(filename,'r') as f:\n",
    "        lines = f.readlines()\n",
    "        filenames_idx = list()\n",
    "        for line in range(len(lines)):\n",
    "            filenames_idx.append(lines[line].split('\\t'))    \n",
    "        f.close()\n",
    "        return filenames_idx\n",
    "    \n",
    "# create list of features or labels\n",
    "def image_lbl_list(mapfile, features):\n",
    "    \n",
    "    if features:\n",
    "        images = list()\n",
    "        for img_num in range(len(mapfile)):\n",
    "            img = np.asarray(Image.open(mapfile[img_num][0]), np.float32)\n",
    "            img = np.ascontiguousarray(np.transpose(img, (2, 0, 1)))\n",
    "            images.append(img)\n",
    "        return images\n",
    "    else:\n",
    "        labels = np.zeros((len(mapfile),1))\n",
    "        for lbl_num in range(len(mapfile)):\n",
    "            labels[lbl_num] = mapfile[lbl_num][1]\n",
    "        return np.float32(labels)\n",
    "\n",
    "# test model on single image\n",
    "def eval_single_image(model, image_path, mean_file):\n",
    "    try:\n",
    "            \n",
    "        img = Image.open(image_path)\n",
    "        img = np.asarray(img, np.float32)- np.mean(mean_file)\n",
    "\n",
    "        image_data = img[..., [2, 1, 0]]\n",
    "        image_data = np.ascontiguousarray(np.rollaxis(image_data, 2))\n",
    "        output = np.squeeze(model.eval({model.arguments[0]:[image_data]}))\n",
    "\n",
    "        # return probabilities\n",
    "\n",
    "        return output\n",
    "\n",
    "    except FileNotFoundError:\n",
    "            print('Could not open (skipping file): {}'.format(image_path))\n",
    "            return['None'] \n",
    "        \n",
    "# eval all the test images     \n",
    "def eval_test_images(images_lbls, model, mean_file):\n",
    "    num_correct = 0\n",
    "    for i in range(len(images_lbls)):\n",
    "        image_path = images_lbls[i][0]\n",
    "        lbl = int(images_lbls[i][1])\n",
    "        pred = eval_single_image(model, image_path, mean_file)\n",
    "        pred = np.argmax(pred)\n",
    "        if pred == lbl:\n",
    "            num_correct = num_correct + 1\n",
    "            \n",
    "        if i%500 == 0 and i != 0:\n",
    "            print('Processed 500 test images, current accuracy: {:0.2f}%'.format(100 * num_correct/i))\n",
    "    print('Total Accuracy: {:0.2f}%'.format(100 * num_correct / len(images_lbls)))\n",
    "    "
   ]
  },
  {
   "cell_type": "markdown",
   "metadata": {},
   "source": [
    "### VGG model "
   ]
  },
  {
   "cell_type": "code",
   "execution_count": 58,
   "metadata": {},
   "outputs": [
    {
     "name": "stdout",
     "output_type": "stream",
     "text": [
      "Top 3 prediction\n",
      "Predicted label: 6, with accuracy: 96.85%\n",
      "Predicted label: 4, with accuracy: 2.86%\n",
      "Predicted label: 0, with accuracy: 0.12%\n",
      "True label: 4\n",
      "\n"
     ]
    },
    {
     "data": {
      "image/png": "[encoded data removed]",
      "text/plain": [
       "<matplotlib.figure.Figure at 0x7f707cbc7208>"
      ]
     },
     "metadata": {},
     "output_type": "display_data"
    }
   ],
   "source": [
    "# Test Single image with basic model\n",
    "image_num = 15\n",
    "tree = ET.parse('data/wood/Wood-Data-Mean.xml')\n",
    "meanData = tree.findtext('MeanImg/data').split()\n",
    "meanData = np.asarray(meanData,dtype=np.float32)\n",
    "pred_basic_model = load_model('model/VGG/test_run_2/VGG_0.1_80.model')\n",
    "file_path_test = 'data/wood/Test-Wood-Species-Map.txt'\n",
    "filenames_lbls = read_test_img(file_path_test)\n",
    "result = eval_single_image(pred_basic_model, filenames_lbls[image_num][0], meanData)\n",
    "img_show = plt.imread(filenames_lbls[image_num][0])\n",
    "plt.imshow(img_show)\n",
    "print('Top 3 prediction')\n",
    "predicted_label = np.argsort(result)[::-1]\n",
    "predicted_label = predicted_label[0:3]\n",
    "accuracy = np.sort(result)[::-1]\n",
    "accuracy = accuracy[0:3] * 100\n",
    "for i in range(3):\n",
    "    print('Predicted label: {}, with accuracy: {:.2f}%'.format(predicted_label[i], accuracy[i]))\n",
    "print('True label: {}'.format(filenames_lbls[image_num][1]))"
   ]
  },
  {
   "cell_type": "code",
   "execution_count": 8,
   "metadata": {},
   "outputs": [
    {
     "name": "stdout",
     "output_type": "stream",
     "text": [
      "Processed 500 test images, current accuracy: 48.20%\n",
      "Processed 500 test images, current accuracy: 51.50%\n",
      "Processed 500 test images, current accuracy: 51.07%\n",
      "Processed 500 test images, current accuracy: 51.60%\n",
      "Processed 500 test images, current accuracy: 51.36%\n",
      "Total Accuracy: 51.06%\n"
     ]
    }
   ],
   "source": [
    "### Test all images basic model\n",
    "tree = ET.parse('data/wood/Wood-Data-Mean.xml')\n",
    "meanData = tree.findtext('MeanImg/data').split()\n",
    "meanData = np.asarray(meanData,dtype=np.float32)\n",
    "model = load_model('model/VGG/test_run_3/VGG_0.1_20.model')\n",
    "test_file_path = 'data/wood/Test-Wood-Species-Map.txt'\n",
    "filenames_lbls = read_test_img(test_file_path)\n",
    "eval_test_images(filenames_lbls,model, meanData)"
   ]
  },
  {
   "cell_type": "markdown",
   "metadata": {},
   "source": [
    "### Resnet Model"
   ]
  },
  {
   "cell_type": "code",
   "execution_count": 59,
   "metadata": {},
   "outputs": [
    {
     "name": "stdout",
     "output_type": "stream",
     "text": [
      "Top 3 prediction\n",
      "Predicted label: 4, with accuracy: 56.30%\n",
      "Predicted label: 5, with accuracy: 21.30%\n",
      "Predicted label: 6, with accuracy: 9.76%\n",
      "True label: 4\n",
      "\n"
     ]
    },
    {
     "data": {
      "image/png": "[encoded data removed]",
      "text/plain": [
       "<matplotlib.figure.Figure at 0x7f707cbcff28>"
      ]
     },
     "metadata": {},
     "output_type": "display_data"
    }
   ],
   "source": [
    "# Test Single image with basic model\n",
    "image_num = 15\n",
    "tree = ET.parse('data/wood/Wood-Data-Mean.xml')\n",
    "meanData = tree.findtext('MeanImg/data').split()\n",
    "meanData = np.asarray(meanData,dtype=np.float32)\n",
    "pred_basic_model = load_model('model/resnet/test_run_2/resnet_0.1_30.model')\n",
    "file_path_test = 'data/wood/Test-Wood-Species-Map.txt'\n",
    "filenames_lbls = read_test_img(file_path_test)\n",
    "result = eval_single_image(pred_basic_model, filenames_lbls[image_num][0], meanData)\n",
    "img_show = plt.imread(filenames_lbls[image_num][0])\n",
    "plt.imshow(img_show)\n",
    "print('Top 3 prediction')\n",
    "predicted_label = np.argsort(result)[::-1]\n",
    "predicted_label = predicted_label[0:3]\n",
    "accuracy = np.sort(result)[::-1]\n",
    "accuracy = accuracy[0:3] * 100\n",
    "for i in range(3):\n",
    "    print('Predicted label: {}, with accuracy: {:.2f}%'.format(predicted_label[i], accuracy[i]))\n",
    "print('True label: {}'.format(filenames_lbls[image_num][1]))"
   ]
  },
  {
   "cell_type": "code",
   "execution_count": 14,
   "metadata": {},
   "outputs": [
    {
     "name": "stdout",
     "output_type": "stream",
     "text": [
      "Processed 500 test images, current accuracy: 90.00%\n",
      "Processed 500 test images, current accuracy: 90.30%\n",
      "Processed 500 test images, current accuracy: 90.80%\n",
      "Processed 500 test images, current accuracy: 90.60%\n",
      "Processed 500 test images, current accuracy: 90.40%\n",
      "Total Accuracy: 90.37%\n"
     ]
    }
   ],
   "source": [
    "# Test all images basic model\n",
    "tree = ET.parse('data/wood/Wood-Data-Mean.xml')\n",
    "meanData = tree.findtext('MeanImg/data').split()\n",
    "meanData = np.asarray(meanData,dtype=np.float32)\n",
    "model = load_model('model/resnet/test_run_3/resnet_0.1_30.model')\n",
    "test_file_path = 'data/wood/Test-Wood-Species-Map.txt'\n",
    "filenames_lbls = read_test_img(test_file_path)\n",
    "eval_test_images(filenames_lbls,model, meanData)"
   ]
  }
 ],
 "metadata": {
  "kernelspec": {
   "display_name": "Python [anaconda3]",
   "language": "python",
   "name": "Python [anaconda3]"
  },
  "language_info": {
   "codemirror_mode": {
    "name": "ipython",
    "version": 3
   },
   "file_extension": ".py",
   "mimetype": "text/x-python",
   "name": "python",
   "nbconvert_exporter": "python",
   "pygments_lexer": "ipython3",
   "version": "3.5.2"
  }
 },
 "nbformat": 4,
 "nbformat_minor": 2
}
