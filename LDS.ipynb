{
 "cells": [
  {
   "cell_type": "markdown",
   "metadata": {},
   "source": [
    "<b><h1>LDS model for wood species identification</h1></b>"
   ]
  },
  {
   "cell_type": "code",
   "execution_count": 1,
   "metadata": {},
   "outputs": [],
   "source": [
    "import matplotlib.pyplot as plt\n",
    "import matplotlib.image as mpimg\n",
    "import matplotlib\n",
    "import numpy as np\n",
    "import scipy as sp\n",
    "from hottbox.algorithms.decomposition import HOSVD\n",
    "from hottbox.core import Tensor\n",
    "from PIL import Image, ImageDraw\n",
    "import os\n",
    "import cv2\n",
    "import warnings; warnings.simplefilter('ignore')\n",
    "%matplotlib inline"
   ]
  },
  {
   "cell_type": "code",
   "execution_count": 2,
   "metadata": {},
   "outputs": [],
   "source": [
    "# basic parameters\n",
    "train_map = 'data/wood/Train-Wood-Species-Map.txt'\n",
    "test_map = 'data/wood/Test-Wood-Species-Map.txt'\n",
    "image_width = 200\n",
    "image_height = 200\n",
    "num_channles = 3\n",
    "step_size = 30\n",
    "num_train_images = 5708\n",
    "num_test_images  = 2836"
   ]
  },
  {
   "cell_type": "markdown",
   "metadata": {},
   "source": [
    "<b><h1>Usefull Functions</h1></b>"
   ]
  },
  {
   "cell_type": "code",
   "execution_count": 3,
   "metadata": {},
   "outputs": [],
   "source": [
    "def get_rhi(img_path, show=True):\n",
    "    rhi = list()\n",
    "    img_path = '{}_Salient{}'.format(img_path[0:12],img_path[12:])\n",
    "    img = mpimg.imread(img_path)\n",
    "    if show:\n",
    "        plt.imshow(img)\n",
    "    for i in range(0,image_width-step_size,step_size//3):\n",
    "        for j in range(0,image_height-step_size, step_size//3):\n",
    "            datarg = np.sum(img[i:i+step_size, j:j+step_size, 0:2], axis=-1)\n",
    "            datagb = np.sum(img[i:i+step_size, j:j+step_size, 1:-1], axis=-1)\n",
    "            zero_numrg = np.count_nonzero(datarg.flatten()==0)\n",
    "            zero_numgb = np.count_nonzero(datagb.flatten()==0)\n",
    "            if zero_numrg == 0 and zero_numgb == 0:\n",
    "                rhi.append((i,j))\n",
    "    if len(rhi) >=20:\n",
    "        rhi = rhi[0:20]\n",
    "    return rhi\n",
    "\n",
    "\n",
    "def get_imgs(mapfile):\n",
    "    with open(mapfile,'r') as f:\n",
    "        lines = f.readlines()\n",
    "        filenames_idx = list()\n",
    "        for line in range(len(lines)):\n",
    "            filenames_idx.append(lines[line].split('\\t'))    \n",
    "        f.close()\n",
    "        return filenames_idx\n",
    "        \n",
    "        \n",
    "def LDS(img_path, rhi):\n",
    "#     LDS parameters\n",
    "    algorithm = HOSVD()\n",
    "    ml_rank = (30,30,3)\n",
    "    \n",
    "#     Opening Image\n",
    "    img_path = '{}_Salient{}'.format(img_path[0:12],img_path[12:])\n",
    "    img = mpimg.imread(img_path)\n",
    "    \n",
    "#     Calculating LDS parameters\n",
    "    M_mat = np.zeros((ml_rank[2], ml_rank[2], 2* len(rhi)))\n",
    "    for region in range(0,2*len(rhi),2):\n",
    "        data = img[rhi[region//2][0]:rhi[region//2][0] + step_size, rhi[region//2][1]:rhi[region//2][1] + step_size, :]\n",
    "        data = Tensor(data)\n",
    "        tensor_HOSVD = algorithm.decompose(data, ml_rank)\n",
    "        #### calculating C\n",
    "        M_mat[:,:,region] = (tensor_HOSVD.fmat)[2]\n",
    "        #### calculating A\n",
    "        X = ((tensor_HOSVD.core).mode_n_product(tensor_HOSVD.fmat[0], mode=0)).mode_n_product(tensor_HOSVD.fmat[1], mode=1)\n",
    "        X_3 = X.unfold(mode=2)\n",
    "        # creating transition matrix components\n",
    "        X1 = X_3.data[:,1:]\n",
    "        X2 = X_3.data[:,:-1]\n",
    "        #calculating transition matrix\n",
    "        M_mat[:,:,region+1] = np.dot(np.dot(X2,X1.T), np.linalg.inv(np.dot(X1,X1.T)))\n",
    "    return M_mat\n",
    "\n",
    "\n",
    "def martinDist(M1, M2):\n",
    "    \n",
    "    reject = 0 \n",
    "    #  combining the A and C matrices\n",
    "    C = np.concatenate((M1[:,:,0], M2[:,:,0]), axis=-1)\n",
    "    A = np.zeros((M1.shape[0]*2, M2.shape[1]*2))\n",
    "    A[0:M2.shape[1], 0:M1.shape[0]] = M1[:,:,1]\n",
    "    A[M2.shape[1]:,M1.shape[0]:] = M2[:,:,1]\n",
    "    \n",
    "    # range check\n",
    "    eigvals, _ = np.linalg.eig(A)\n",
    "    for i in range(eigvals.shape[0]):\n",
    "        for j in range(eigvals.shape[0]):\n",
    "            mul = eigvals[i] * eigvals[j]\n",
    "            if mul<1.000001 and mul>0.999999:\n",
    "                reject = 1\n",
    "    # Lyapunov equation\n",
    "    if reject == 0:\n",
    "        Q = np.dot(-C.T, C)\n",
    "        P = sp.linalg.solve_discrete_lyapunov(A,Q)\n",
    "        P11 = P[:M1.shape[0], :M1.shape[0]]\n",
    "        P12 = P[M1.shape[0]:,:M1.shape[0]]\n",
    "        P21 = P[:M1.shape[0],M1.shape[0]:]\n",
    "        P22 = P[M1.shape[0]:, M1.shape[0]:]\n",
    "        \n",
    "        P11inv = np.linalg.inv(P11)\n",
    "        P22inv = np.linalg.inv(P22)\n",
    "        \n",
    "        #calculating martin distance\n",
    "        pm = np.dot(np.dot(P11inv,P12),np.dot(P22inv,P21))\n",
    "        dmVals, _ = np.linalg.eig(pm)\n",
    "        distMartin = -np.log(np.prod(np.absolute(dmVals)))\n",
    "    else:\n",
    "        distMartin = 10**100\n",
    "    if distMartin < 10**-15:\n",
    "        distMartin = 0\n",
    "    return distMartin\n",
    "\n",
    "\n",
    "# calculate pairwise distance for all input data (very long computation)\n",
    "# input must be a 3d tensor \n",
    "# change line 2 of function to use 2d matrix\n",
    "def getPairwiseDist(D):\n",
    "    # get shape of input data\n",
    "    r, c, d = D.shape\n",
    "    # create output array for data\n",
    "    pairWiseDists = np.zeros((d//2,d//2))\n",
    "    # calcualte all pairWiseDists\n",
    "    for ref in range(0,d,2):\n",
    "        for point in range(0,d,2):\n",
    "            pairWiseDists[ref//2, point//2] = martinDist(D[:, :, ref:ref+2], D[:, :, point:point+2])\n",
    "    return pairWiseDists\n",
    "\n",
    "# use 64 clusters and different values\n",
    "def Kmedoids(data, k, maxit=200):\n",
    "    # determine dimensions of distance matrix D\n",
    "    m, n = data.shape\n",
    "\n",
    "    if k > n:\n",
    "        raise Exception('too many medoids')\n",
    "\n",
    "    # find a set of valid initial cluster medoid indices since we\n",
    "    # can't seed different clusters with two points at the same location\n",
    "    valid_medoid_inds = set(range(n))\n",
    "    invalid_medoid_inds = set([])\n",
    "    rs,cs = np.where(data==0)\n",
    "    # the rows, cols must be shuffled because we will keep the first duplicate below\n",
    "    index_shuf = list(range(len(rs)))\n",
    "    np.random.shuffle(index_shuf)\n",
    "    rs = rs[index_shuf]\n",
    "    cs = cs[index_shuf]\n",
    "    for r,c in zip(rs,cs):\n",
    "        # if there are two points with a distance of 0...\n",
    "        # keep the first one for cluster init\n",
    "        if r < c and r not in invalid_medoid_inds:\n",
    "            invalid_medoid_inds.add(c)\n",
    "    valid_medoid_inds = list(valid_medoid_inds - invalid_medoid_inds)\n",
    "\n",
    "    if k > len(valid_medoid_inds):\n",
    "        raise Exception('too many medoids (after removing {} duplicate points)'.format(\n",
    "            len(invalid_medoid_inds)))\n",
    "    # randomly initialize an array of k medoid indices\n",
    "    M = np.array(valid_medoid_inds)\n",
    "    np.random.shuffle(M)\n",
    "    M = np.sort(M[:k])\n",
    "    # create a copy of the array of medoid indices\n",
    "    Mnew = np.copy(M)\n",
    "    \n",
    "    # initialize a dictionary to represent clusters\n",
    "    C = {}\n",
    "    for t in range(maxit):\n",
    "        # determine clusters, i. e. arrays of data indices\n",
    "        J = np.argmin(data[:,M], axis=1)\n",
    "        for kappa in range(k):\n",
    "            C[kappa] = np.where(J==kappa)[0]\n",
    "        # update cluster medoids\n",
    "        for kappa in range(k):\n",
    "            J = np.mean(data[np.ix_(C[kappa],C[kappa])],axis=1)\n",
    "            j = np.argmin(J)\n",
    "            Mnew[kappa] = C[kappa][j]\n",
    "        np.sort(Mnew)\n",
    "        # check for convergence\n",
    "        if np.array_equal(M, Mnew):\n",
    "            break\n",
    "        M = np.copy(Mnew)\n",
    "    else:\n",
    "        # final update of cluster memberships\n",
    "        J = np.argmin(data[:,M], axis=1)\n",
    "        for kappa in range(k):\n",
    "            C[kappa] = np.where(J==kappa)[0]\n",
    "\n",
    "    # return results\n",
    "    return M, C\n",
    "\n",
    "\n",
    "# really shit shit code below be warned\n",
    "def genTrain_hist(medoids, features, features_used, info_mat):\n",
    "    # features_used are the features used during clustering\n",
    "    \n",
    "    #basic shape parameters\n",
    "    num_images = info_mat.shape[0]\n",
    "    num_medoids = medoids.size\n",
    "    # intializing data matrix\n",
    "    training_hist = np.zeros((num_images, medoids.size))\n",
    "    \n",
    "    # itterate over all image data\n",
    "    for img in range(num_images):\n",
    "        if img % 1000 == 0 and img != 0:\n",
    "            print('Processed 1000 images')\n",
    "        cumsum = 0\n",
    "        num_rhi = info_mat[img,1].astype(int)\n",
    "        dists = np.zeros((medoids.size))\n",
    "        #itterate over all regions of interest\n",
    "        for rhi in range(cumsum, cumsum + num_rhi, 1):\n",
    "            # itterate over all medoids\n",
    "            for med in range(num_medoids):\n",
    "                dists[med] = martinDist(features[:,:, 2*rhi:(2*rhi)+2], features_used[:,:, medoids[med]:medoids[med]+2])\n",
    "            closest = np.argmin(dists[0:num_medoids])\n",
    "            training_hist[img, closest] = training_hist[img, closest] + 1\n",
    "        cumsum = cumsum + num_rhi\n",
    "    return training_hist"
   ]
  },
  {
   "cell_type": "markdown",
   "metadata": {},
   "source": [
    "<b><h1>Simple Example using single image</h1></b>"
   ]
  },
  {
   "cell_type": "code",
   "execution_count": 20,
   "metadata": {},
   "outputs": [
    {
     "data": {
      "text/plain": [
       "<matplotlib.image.AxesImage at 0x7f2de02429e8>"
      ]
     },
     "execution_count": 20,
     "metadata": {},
     "output_type": "execute_result"
    },
    {
     "data": {
      "image/png": "[encoded data removed]",
      "text/plain": [
       "<matplotlib.figure.Figure at 0x7f2df58db470>"
      ]
     },
     "metadata": {},
     "output_type": "display_data"
    }
   ],
   "source": [
    "i = 4000\n",
    "imgs_lbl = get_imgs(train_map)\n",
    "img_path = imgs_lbl[i][0]\n",
    "img = mpimg.imread(img_path)\n",
    "plt.imshow(img)"
   ]
  },
  {
   "cell_type": "code",
   "execution_count": 21,
   "metadata": {},
   "outputs": [
    {
     "name": "stdout",
     "output_type": "stream",
     "text": [
      "Found 6 rhi\n",
      "[(130, 20), (130, 30), (130, 120), (140, 140), (140, 150), (140, 160)]\n"
     ]
    },
    {
     "data": {
      "image/png": "[encoded data removed]",
      "text/plain": [
       "<matplotlib.figure.Figure at 0x7f2de313ae80>"
      ]
     },
     "metadata": {},
     "output_type": "display_data"
    }
   ],
   "source": [
    "# get tuples containing location of all rhi\n",
    "rhi = get_rhi(img_path, show=True)\n",
    "print('Found {} rhi'.format(str(len(rhi))))\n",
    "print(rhi)"
   ]
  },
  {
   "cell_type": "code",
   "execution_count": 23,
   "metadata": {},
   "outputs": [
    {
     "name": "stdout",
     "output_type": "stream",
     "text": [
      "[[[-6.65468335e-01  9.97611403e-01 -6.68916464e-01  9.98081505e-01\n",
      "   -6.72121465e-01  9.97434318e-01 -6.76632881e-01  9.97922301e-01\n",
      "   -6.78576708e-01  9.97642636e-01 -6.80197179e-01  9.96896625e-01]\n",
      "  [ 4.68450636e-01 -3.66397649e-01  4.73242611e-01 -2.83115834e-01\n",
      "    4.01075602e-01 -6.38741493e-01  4.75549191e-01 -8.77366185e-01\n",
      "    5.27519345e-01 -8.85418117e-01  5.24666488e-01 -1.21456540e+00]\n",
      "  [ 5.81124723e-01 -2.18090510e+00  5.73229611e-01 -5.40048659e-01\n",
      "    6.22407198e-01 -6.55920327e-01  5.62157750e-01 -9.07484591e-02\n",
      "    5.11133194e-01 -6.75452966e-03  5.11914968e-01 -2.22076535e-01]]\n",
      "\n",
      " [[-5.89677453e-01 -4.20564727e-04 -5.88502765e-01 -3.35837627e-04\n",
      "   -5.96299350e-01 -4.06631181e-04 -5.93495250e-01 -3.70440161e-04\n",
      "   -5.92387617e-01 -4.36711940e-04 -5.93234241e-01 -5.99657942e-04]\n",
      "  [ 1.47391275e-01  9.19383764e-01  1.33946881e-01  9.26744044e-01\n",
      "    2.05128193e-01  8.12506497e-01  9.96453166e-02  8.06931973e-01\n",
      "    1.84037685e-02  7.87975252e-01  1.62147135e-02  7.22452402e-01]\n",
      "  [-7.94075847e-01 -4.05490041e-01 -7.97322273e-01 -1.52041525e-01\n",
      "   -7.76111722e-01 -7.79128969e-02 -7.98645437e-01  1.60507206e-02\n",
      "   -8.05442810e-01  1.23434566e-01 -8.04866433e-01  1.88680049e-02]]\n",
      "\n",
      " [[-4.57638085e-01 -3.25108267e-05 -4.54109132e-01 -4.15379036e-05\n",
      "   -4.38952684e-01 -7.28943705e-05 -4.35811490e-01 -6.85560008e-05\n",
      "   -4.34293509e-01 -4.83512667e-05 -4.30587262e-01 -6.56720204e-06]\n",
      "  [-8.71108294e-01 -7.36192614e-03 -8.70689154e-01 -5.67754172e-03\n",
      "   -8.92782688e-01 -3.20210978e-02 -8.74027431e-01 -3.42649706e-02\n",
      "   -8.49343657e-01  6.77260663e-03 -8.51153195e-01 -9.36361030e-04]\n",
      "  [ 1.78150624e-01  7.55312800e-01  1.88905373e-01  8.57635319e-01\n",
      "    1.01290211e-01  7.69534349e-01  2.14812741e-01  8.72150421e-01\n",
      "    3.00007403e-01  8.23363662e-01  3.00220966e-01  8.47370088e-01]]]\n"
     ]
    }
   ],
   "source": [
    "# calculate A and C Matrices for all regions of a single image \n",
    "# even indices are C matrices and odd indices are A matrices\n",
    "M = LDS(img_path, rhi)\n",
    "print(M)"
   ]
  },
  {
   "cell_type": "markdown",
   "metadata": {},
   "source": [
    "<b><h1>Extracting features from all training images</h1></b>"
   ]
  },
  {
   "cell_type": "code",
   "execution_count": 40,
   "metadata": {},
   "outputs": [
    {
     "name": "stdout",
     "output_type": "stream",
     "text": [
      "Done !\n"
     ]
    }
   ],
   "source": [
    "#### LONG ONLY RUN NOT NECCESSARY FEATURES MAT ALREADY SAVED IN: 'LDS_data' directory\n",
    "img_lbl = get_imgs(train_map)\n",
    "lbl_rhi_mat = np.zeros((num_train_images,2))\n",
    "features = np.zeros((3,3,0))\n",
    "\n",
    "for item in range(len(img_lbl)):\n",
    "    rhi = get_rhi(img_lbl[item][0], show=False)\n",
    "    if len(rhi) != 0:\n",
    "        M = LDS(img_lbl[item][0], rhi)\n",
    "        features = np.concatenate((features, M), axis=-1)\n",
    "        lbl_rhi_mat[item,0] = int(img_lbl[item][1])\n",
    "        lbl_rhi_mat[item,1] = len(rhi)  \n",
    "inf_mat = np.cumsum(info_mat[:,1]).reshape(lbl_rhi_mat.shape[0],1)\n",
    "lbl_rhi_mat = np.concatenate((lbl_rhi_mat, inf_mat), axis=-1)\n",
    "print('Done !')"
   ]
  },
  {
   "cell_type": "code",
   "execution_count": 41,
   "metadata": {},
   "outputs": [],
   "source": [
    "# # # saving A/C matrix data\n",
    "# np.save('LDS_data/features.npy', features)\n",
    "# np.save('LDS_data/inf_mat.npy', lbl_rhi_mat)"
   ]
  },
  {
   "cell_type": "code",
   "execution_count": 4,
   "metadata": {},
   "outputs": [
    {
     "name": "stdout",
     "output_type": "stream",
     "text": [
      "Great Success\n",
      "(3, 3, 197142)\n"
     ]
    }
   ],
   "source": [
    "# loading saved data\n",
    "try:\n",
    "    features = np.load('LDS_data/features.npy')\n",
    "    info_mat = np.load('LDS_data/inf_mat.npy')\n",
    "    print('Great Success')\n",
    "except:\n",
    "    print('No files with this name found')\n",
    "print(features.shape)"
   ]
  },
  {
   "cell_type": "code",
   "execution_count": 6,
   "metadata": {},
   "outputs": [
    {
     "name": "stdout",
     "output_type": "stream",
     "text": [
      "(3, 3, 2)\n",
      "0\n"
     ]
    }
   ],
   "source": [
    "# i and j must be even\n",
    "i = 2\n",
    "j = 2\n",
    "# calcualtes marting distance between chosen points\n",
    "M1 = features[:,:,i:i+2]\n",
    "print(M1.shape)\n",
    "M2 = features[:,:,j:j+2]\n",
    "P = martinDist(M1,M2)\n",
    "print(P)"
   ]
  },
  {
   "cell_type": "code",
   "execution_count": 5,
   "metadata": {},
   "outputs": [
    {
     "name": "stdout",
     "output_type": "stream",
     "text": [
      "Randonmly selecting 500 features\n",
      "Calculating Pairwise Martin Distance\n",
      "Done\n"
     ]
    }
   ],
   "source": [
    "# randomly select some of the features\n",
    "num_feat = 500\n",
    "feature_ind = (np.random.choice(features.shape[2]//2, num_feat) * 2).astype(int)\n",
    "features_used = np.zeros((3,3,num_feat * 2))\n",
    "print('Randonmly selecting {} features'.format(num_feat))\n",
    "for i in range(0,feature_ind.size):\n",
    "    features_used[:,:,i*2:(i*2)+2] = features[:,:, feature_ind[i]:feature_ind[i] + 2]\n",
    "# calculate pairwise distance for all features\n",
    "print('Calculating Pairwise Martin Distance')\n",
    "pairs = getPairwiseDist(features_used)\n",
    "print('Done')"
   ]
  },
  {
   "cell_type": "code",
   "execution_count": 6,
   "metadata": {},
   "outputs": [
    {
     "name": "stdout",
     "output_type": "stream",
     "text": [
      "Medoids: \n",
      "\n",
      "\n",
      "[ 14  88 122 202 230 564 380 272 394 334  30   6 438 494 534 548 568 246\n",
      " 342 422 714 904 150 796 804 808 878 764 562 264 940 976]\n",
      "\n",
      "\n",
      "\n",
      "Clusters: \n",
      "\n",
      "\n",
      "{0: array([  1,   7,  10,  40,  42,  83, 142, 169, 175, 187, 216, 233, 235,\n",
      "       245, 279, 324, 333, 336]), 1: array([  6,  12,  29,  34,  44,  47,  49,  51,  77,  84, 126, 183, 249,\n",
      "       330, 411, 441, 449, 453, 469]), 2: array([ 61, 296, 309, 325, 340, 468, 498]), 3: array([ 50,  90,  98, 101, 146, 188, 189, 193, 262, 289, 491]), 4: array([ 21,  43, 103, 112, 115, 116, 151, 173, 185, 263, 273, 294, 307,\n",
      "       310, 419, 434, 456, 477]), 5: array([108, 117, 141, 165, 241, 250, 257, 282, 367, 378, 383, 408, 420,\n",
      "       436, 462]), 6: array([ 24,  56,  60,  85, 106, 119, 139, 156, 166, 190, 195, 288, 350,\n",
      "       371, 460, 463, 475, 490, 495]), 7: array([ 66, 136, 170, 210, 251, 319, 331, 440, 494]), 8: array([  0,  16,  58,  69,  72,  74,  79,  96, 128, 133, 135, 137, 144,\n",
      "       172, 174, 197, 213, 217, 269, 290, 298, 312, 316, 363, 366, 373,\n",
      "       376, 399, 412, 454, 493]), 9: array([ 23,  80,  81, 125, 167, 202, 224, 370, 379, 389, 479]), 10: array([ 15,  32,  95, 110, 158, 180, 184, 226, 242, 248, 266, 272, 300,\n",
      "       305, 337, 433, 444]), 11: array([  3,   9,  19,  20,  93,  97, 163, 196, 204, 280, 285, 313, 344,\n",
      "       359, 388, 432]), 12: array([ 54,  71,  88, 219, 229, 230, 380, 403, 430, 471]), 13: array([  5,  33,  87,  92,  94, 100, 129, 154, 159, 162, 181, 192, 244,\n",
      "       246, 247, 303, 323, 335, 338, 354, 391, 392, 395, 410, 425, 438,\n",
      "       446, 473, 478, 487, 492]), 14: array([ 53,  63,  68, 114, 150, 178, 207, 261, 267, 275, 489]), 15: array([113, 177, 212, 234, 253, 274, 308, 372, 385, 394, 407, 486]), 16: array([284, 322, 431, 472]), 17: array([123, 153, 221, 304, 413]), 18: array([ 25,  82,  89,  91, 164, 168, 171, 243, 268, 326, 375, 397, 416]), 19: array([ 64,  76,  86, 211, 215, 311, 347, 356, 364, 400, 418, 424, 458,\n",
      "       481, 483, 485]), 20: array([200, 265, 314, 317, 343, 357, 360, 401]), 21: array([  2,  39,  45, 102, 122, 134, 145, 152, 206, 222, 255, 259, 306,\n",
      "       351, 358, 409, 443, 452, 461, 465, 484]), 22: array([ 73,  75, 186, 276, 342, 361, 365, 423, 442, 467, 474, 499]), 23: array([ 52, 191, 321, 334, 349, 398, 429, 451, 466, 482]), 24: array([  8,  11,  28, 107, 155, 218, 237, 238, 240, 252, 264, 271, 277,\n",
      "       286, 320, 368, 402, 415, 496]), 25: array([ 46,  65, 339, 374, 404, 406]), 26: array([ 13,  22, 160, 161, 239, 254, 292, 301, 428, 439, 448]), 27: array([111, 147, 198, 315, 318, 328, 332, 345, 382, 422, 447, 455]), 28: array([ 41,  67,  70, 120, 138, 176, 179, 208, 214, 227, 232, 270, 278,\n",
      "       281, 293, 327, 369, 377, 457]), 29: array([  4,  14,  17,  27,  30,  31,  36,  37,  38,  48,  55,  57,  59,\n",
      "        99, 104, 105, 109, 118, 121, 130, 131, 132, 140, 148, 149, 157,\n",
      "       194, 201, 203, 205, 209, 220, 223, 228, 236, 256, 260, 283, 287,\n",
      "       299, 302, 346, 348, 352, 355, 384, 386, 387, 390, 393, 396, 414,\n",
      "       417, 426, 427, 435, 437, 459, 464, 476, 497]), 30: array([ 26,  78, 127, 143, 182, 199, 231, 295, 329, 341, 362, 470, 480]), 31: array([ 18,  35,  62, 124, 225, 258, 291, 297, 353, 381, 405, 421, 445,\n",
      "       450, 488])}\n"
     ]
    }
   ],
   "source": [
    "medoids, clusters = Kmedoids(pairs, 32)\n",
    "medoids = medoids * 2\n",
    "print('Medoids: \\n\\n')\n",
    "print(medoids)\n",
    "print('\\n\\n')\n",
    "print('Clusters: \\n\\n')\n",
    "print(clusters)"
   ]
  },
  {
   "cell_type": "code",
   "execution_count": 7,
   "metadata": {},
   "outputs": [
    {
     "name": "stdout",
     "output_type": "stream",
     "text": [
      "generate Histograms for all training images\n",
      "Processed 1000 images\n",
      "Processed 1000 images\n",
      "Processed 1000 images\n",
      "Processed 1000 images\n",
      "Processed 1000 images\n",
      "(5708, 32)\n",
      "Done\n"
     ]
    }
   ],
   "source": [
    "print('generate Histograms for all training images')\n",
    "hist = genTrain_hist(medoids, features, features_used, info_mat)\n",
    "print(hist.shape)\n",
    "print('Done')"
   ]
  },
  {
   "cell_type": "code",
   "execution_count": 120,
   "metadata": {},
   "outputs": [
    {
     "data": {
      "image/png": "[encoded data removed]",
      "text/plain": [
       "<matplotlib.figure.Figure at 0x7f2ddde54358>"
      ]
     },
     "metadata": {},
     "output_type": "display_data"
    }
   ],
   "source": [
    "np.save('LDS_data/hist_train.npy', hist)\n",
    "fig = plt.figure()\n",
    "ax1 = fig.add_subplot(331)\n",
    "ax1.bar(np.arange(hist.shape[1]), hist[0,:])\n",
    "ax2 = fig.add_subplot(332)\n",
    "ax2.bar(np.arange(hist.shape[1]), hist[1,:])\n",
    "ax3 = fig.add_subplot(333)\n",
    "ax3.bar(np.arange(hist.shape[1]), hist[2,:])\n",
    "ax4 = fig.add_subplot(334)\n",
    "ax4.bar(np.arange(hist.shape[1]), hist[3,:])\n",
    "ax5 = fig.add_subplot(335)\n",
    "ax5.bar(np.arange(hist.shape[1]), hist[4,:])\n",
    "ax6 = fig.add_subplot(336)\n",
    "ax6.bar(np.arange(hist.shape[1]), hist[6,:])\n",
    "ax7 = fig.add_subplot(337)\n",
    "ax7.bar(np.arange(hist.shape[1]), hist[7,:])\n",
    "ax8 = fig.add_subplot(338)\n",
    "ax8.bar(np.arange(hist.shape[1]), hist[8,:])\n",
    "ax9 = fig.add_subplot(339)\n",
    "ax9.bar(np.arange(hist.shape[1]), hist[9,:])\n",
    "fig.show()"
   ]
  },
  {
   "cell_type": "code",
   "execution_count": null,
   "metadata": {},
   "outputs": [],
   "source": []
  }
 ],
 "metadata": {
  "kernelspec": {
   "display_name": "Python [anaconda3]",
   "language": "python",
   "name": "Python [anaconda3]"
  },
  "language_info": {
   "codemirror_mode": {
    "name": "ipython",
    "version": 3
   },
   "file_extension": ".py",
   "mimetype": "text/x-python",
   "name": "python",
   "nbconvert_exporter": "python",
   "pygments_lexer": "ipython3",
   "version": "3.5.2"
  }
 },
 "nbformat": 4,
 "nbformat_minor": 2
}
