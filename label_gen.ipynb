{
 "cells": [
  {
   "cell_type": "markdown",
   "metadata": {},
   "source": [
    "## Important read before running\n",
    "#### To run this code: create a copy of wood database and enter wood database filename below in relevant field\n",
    "#### This code only needs to be run once"
   ]
  },
  {
   "cell_type": "code",
   "execution_count": 121,
   "metadata": {},
   "outputs": [],
   "source": [
    "from os import listdir,rmdir,rename\n",
    "from os.path import join\n",
    "from shutil import move\n",
    "import numpy as np"
   ]
  },
  {
   "cell_type": "code",
   "execution_count": 122,
   "metadata": {},
   "outputs": [],
   "source": [
    "#enter wood database filename\n",
    "database_filename = 'Wood_Dataset (copy)'"
   ]
  },
  {
   "cell_type": "code",
   "execution_count": 123,
   "metadata": {},
   "outputs": [
    {
     "name": "stdout",
     "output_type": "stream",
     "text": [
      "Sorting images with label: 1\n",
      "Found 936 images\n",
      "Sorting images with label: 2\n",
      "Found 200 images\n",
      "Sorting images with label: 3\n",
      "Found 1024 images\n",
      "Sorting images with label: 4\n",
      "Found 400 images\n",
      "Sorting images with label: 5\n",
      "Found 464 images\n",
      "Sorting images with label: 6\n",
      "Found 432 images\n",
      "Sorting images with label: 7\n",
      "Found 308 images\n",
      "Sorting images with label: 8\n",
      "Found 224 images\n",
      "Sorting images with label: 9\n",
      "Found 224 images\n",
      "Sorting images with label: 10\n",
      "Found 440 images\n",
      "Sorting images with label: 11\n",
      "Found 552 images\n",
      "Sorting images with label: 12\n",
      "Found 504 images\n"
     ]
    }
   ],
   "source": [
    "labels = np.empty(0,dtype='int')\n",
    "# counting images in training set to create labels array\n",
    "root = '{}/Train'.format(database_filename)\n",
    "name = 1\n",
    "for i in range(1,13):\n",
    "    path = '{}/{}'.format(root,str(i))\n",
    "    files = os.listdir(path)\n",
    "    num_images = len(files)\n",
    "    labels = np.append(labels,np.ones((num_images,1),dtype='int')*i)\n",
    "    # moves, renames images\n",
    "    print('Sorting images with label: {}'.format(str(i)))\n",
    "    print('Found {} images'.format(str(num_images)))\n",
    "    for filename in files:\n",
    "        move(join(path, filename), join(root, filename))\n",
    "        os.rename(join(root, filename),join(root, '{}.jpg'.format(str(name))))\n",
    "        name = name + 1\n",
    "    #deletes original images folder\n",
    "    os.rmdir(path)"
   ]
  },
  {
   "cell_type": "code",
   "execution_count": 124,
   "metadata": {},
   "outputs": [
    {
     "name": "stdout",
     "output_type": "stream",
     "text": [
      "Found: 5708 images\n"
     ]
    }
   ],
   "source": [
    "#save labels as np array \n",
    "np.save('Train_labels.npy',labels)\n",
    "print('Found: {} images'.format(str(len(labels))))"
   ]
  },
  {
   "cell_type": "code",
   "execution_count": 125,
   "metadata": {},
   "outputs": [
    {
     "name": "stdout",
     "output_type": "stream",
     "text": [
      "Generating Test label array\n"
     ]
    }
   ],
   "source": [
    "# counting images in testing set to create labels array\n",
    "print('Generating Test label array')\n",
    "root = '{}/Test'.format(database_filename)\n",
    "files = os.listdir(root)\n",
    "labels = np.zeros((len(files)),dtype='int')\n",
    "for filename in files:\n",
    "    val = filename.split('_')\n",
    "    lbl = val[1].split('.')[0]\n",
    "    labels[int(val[0])-1] = int(lbl)\n",
    "    os.rename(join(root,filename),join(root,'{}.jpg'.format(val[0])))"
   ]
  },
  {
   "cell_type": "code",
   "execution_count": 126,
   "metadata": {},
   "outputs": [
    {
     "name": "stdout",
     "output_type": "stream",
     "text": [
      "Found: 2836 images\n"
     ]
    }
   ],
   "source": [
    "np.save('Test_labels.npy',labels)\n",
    "print('Found: {} images'.format(str(len(labels))))"
   ]
  }
 ],
 "metadata": {
  "kernelspec": {
   "display_name": "Python [anaconda3]",
   "language": "python",
   "name": "Python [anaconda3]"
  },
  "language_info": {
   "codemirror_mode": {
    "name": "ipython",
    "version": 3
   },
   "file_extension": ".py",
   "mimetype": "text/x-python",
   "name": "python",
   "nbconvert_exporter": "python",
   "pygments_lexer": "ipython3",
   "version": "3.5.2"
  }
 },
 "nbformat": 4,
 "nbformat_minor": 2
}
